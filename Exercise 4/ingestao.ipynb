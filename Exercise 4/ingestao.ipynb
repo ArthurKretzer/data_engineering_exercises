{
 "cells": [
  {
   "cell_type": "code",
   "execution_count": 17,
   "metadata": {},
   "outputs": [],
   "source": [
    "# Built in python abstract class\n",
    "from abc import ABC, abstractmethod\n",
    "\n",
    "import requests\n",
    "import logging"
   ]
  },
  {
   "cell_type": "code",
   "execution_count": 5,
   "metadata": {},
   "outputs": [],
   "source": [
    "logger = logging.getLogger(__name__)"
   ]
  },
  {
   "cell_type": "code",
   "execution_count": 6,
   "metadata": {},
   "outputs": [],
   "source": [
    "logging.basicConfig(level=logging.INFO)"
   ]
  },
  {
   "attachments": {},
   "cell_type": "markdown",
   "metadata": {},
   "source": [
    "Tests access to the API"
   ]
  },
  {
   "cell_type": "code",
   "execution_count": 2,
   "metadata": {},
   "outputs": [
    {
     "name": "stdout",
     "output_type": "stream",
     "text": [
      "{'date': '2021-06-21', 'opening': 182018.62236, 'closing': 167597.94809, 'lowest': 158000, 'highest': 182018.62236, 'volume': '47640150.72831583', 'quantity': '286.48516078', 'amount': 19363, 'avg_price': 166291.86167481}\n"
     ]
    }
   ],
   "source": [
    "print(requests.get(\"https://www.mercadobitcoin.net/api/BTC/day-summary/2021/6/21\").json())"
   ]
  },
  {
   "attachments": {},
   "cell_type": "markdown",
   "metadata": {},
   "source": [
    "Creates an abstract class for the API"
   ]
  },
  {
   "cell_type": "code",
   "execution_count": 19,
   "metadata": {},
   "outputs": [],
   "source": [
    "class MercadoBitcoinApi(ABC):\n",
    "\n",
    "    def __init__(self, coin: str) -> None:\n",
    "        self.coin = coin\n",
    "        self.base_endpoint = \"https://www.mercadobitcoin.net/api\"\n",
    "\n",
    "    @abstractmethod\n",
    "    def _get_endpoint(self) -> str:\n",
    "        pass\n",
    "    \n",
    "    def get_data(self) -> dict:\n",
    "        '''\n",
    "            Get data form an endpoint\n",
    "            Raises HTTPError exception if reponse failed\n",
    "            :return dict: dictionary from endpoint json response\n",
    "        '''\n",
    "        endpoint = self._get_endpoint()\n",
    "        logger.info(f\"Getting data from endpoint: {endpoint}\")\n",
    "        response = requests.get(endpoint)\n",
    "        response.raise_for_status()\n",
    "        return response.json()\n"
   ]
  },
  {
   "attachments": {},
   "cell_type": "markdown",
   "metadata": {},
   "source": [
    "Creates a derived class from the abstract class"
   ]
  },
  {
   "cell_type": "code",
   "execution_count": 22,
   "metadata": {},
   "outputs": [],
   "source": [
    "class BtcApi(MercadoBitcoinApi):\n",
    "\n",
    "    def _get_endpoint(self) -> str:\n",
    "        '''\n",
    "            Returns endpoint for coin day summary.\n",
    "        '''\n",
    "        return f\"{self.base_endpoint}/{self.coin}/day-summary/2021/6/21\""
   ]
  },
  {
   "cell_type": "code",
   "execution_count": 25,
   "metadata": {},
   "outputs": [
    {
     "name": "stderr",
     "output_type": "stream",
     "text": [
      "INFO:__main__:Getting data from endpoint: https://www.mercadobitcoin.net/api/BTC/day-summary/2021/6/21\n"
     ]
    },
    {
     "name": "stdout",
     "output_type": "stream",
     "text": [
      "{'date': '2021-06-21', 'opening': 182018.62236, 'closing': 167597.94809, 'lowest': 158000, 'highest': 182018.62236, 'volume': '47640150.72831583', 'quantity': '286.48516078', 'amount': 19363, 'avg_price': 166291.86167481}\n"
     ]
    }
   ],
   "source": [
    "print(BtcApi(coin=\"BTC\").get_data())"
   ]
  },
  {
   "cell_type": "code",
   "execution_count": 24,
   "metadata": {},
   "outputs": [
    {
     "ename": "TypeError",
     "evalue": "Can't instantiate abstract class MercadoBitcoinApi with abstract method _get_endpoint",
     "output_type": "error",
     "traceback": [
      "\u001b[1;31m---------------------------------------------------------------------------\u001b[0m",
      "\u001b[1;31mTypeError\u001b[0m                                 Traceback (most recent call last)",
      "Cell \u001b[1;32mIn[24], line 1\u001b[0m\n\u001b[1;32m----> 1\u001b[0m \u001b[39mprint\u001b[39m(MercadoBitcoinApi(coin\u001b[39m=\u001b[39;49m\u001b[39m\"\u001b[39;49m\u001b[39mLTC\u001b[39;49m\u001b[39m\"\u001b[39;49m)\u001b[39m.\u001b[39mget_data())\n",
      "\u001b[1;31mTypeError\u001b[0m: Can't instantiate abstract class MercadoBitcoinApi with abstract method _get_endpoint"
     ]
    }
   ],
   "source": [
    "print(MercadoBitcoinApi(coin=\"LTC\").get_data())"
   ]
  }
 ],
 "metadata": {
  "kernelspec": {
   "display_name": ".venv",
   "language": "python",
   "name": ".venv"
  },
  "language_info": {
   "codemirror_mode": {
    "name": "ipython",
    "version": 3
   },
   "file_extension": ".py",
   "mimetype": "text/x-python",
   "name": "python",
   "nbconvert_exporter": "python",
   "pygments_lexer": "ipython3",
   "version": "3.11.0"
  },
  "orig_nbformat": 4,
  "vscode": {
   "interpreter": {
    "hash": "5238573367df39f7286bb46f9ff5f08f63a01a80960060ce41e3c79b190280fa"
   }
  }
 },
 "nbformat": 4,
 "nbformat_minor": 2
}
