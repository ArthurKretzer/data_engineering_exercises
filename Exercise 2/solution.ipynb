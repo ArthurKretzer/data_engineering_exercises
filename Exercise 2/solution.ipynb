{
 "cells": [
  {
   "attachments": {},
   "cell_type": "markdown",
   "metadata": {},
   "source": [
    "# API access exercise\n",
    "\n",
    "This script tests API requests for currency quotations and also exception handling using backoff as a function decorator"
   ]
  },
  {
   "cell_type": "code",
   "execution_count": 2,
   "metadata": {},
   "outputs": [],
   "source": [
    "import requests\n",
    "import json"
   ]
  },
  {
   "cell_type": "code",
   "execution_count": 3,
   "metadata": {},
   "outputs": [],
   "source": [
    "url = 'https://economia.awesomeapi.com.br/json/last/USD-BRL'\n",
    "ret = requests.get(url)"
   ]
  },
  {
   "cell_type": "code",
   "execution_count": 4,
   "metadata": {},
   "outputs": [
    {
     "name": "stdout",
     "output_type": "stream",
     "text": [
      "Requisição concluída com código <Response [200]>\n",
      "{\"USDBRL\":{\"code\":\"USD\",\"codein\":\"BRL\",\"name\":\"Dólar Americano/Real Brasileiro\",\"high\":\"5.1413\",\"low\":\"5.0707\",\"varBid\":\"0.0004\",\"pctChange\":\"0.01\",\"bid\":\"5.0731\",\"ask\":\"5.074\",\"timestamp\":\"1675200600\",\"create_date\":\"2023-01-31 18:30:00\"}}\n"
     ]
    }
   ],
   "source": [
    "if ret:\n",
    "    print(f\"Requisição concluída com código {ret}\")\n",
    "    print(ret.text)\n",
    "else:\n",
    "    print(f\"Requisição falhou! Código {ret}\")"
   ]
  },
  {
   "cell_type": "code",
   "execution_count": 5,
   "metadata": {},
   "outputs": [
    {
     "data": {
      "text/plain": [
       "{'USDBRL': {'code': 'USD',\n",
       "  'codein': 'BRL',\n",
       "  'name': 'Dólar Americano/Real Brasileiro',\n",
       "  'high': '5.1413',\n",
       "  'low': '5.0707',\n",
       "  'varBid': '0.0004',\n",
       "  'pctChange': '0.01',\n",
       "  'bid': '5.0731',\n",
       "  'ask': '5.074',\n",
       "  'timestamp': '1675200600',\n",
       "  'create_date': '2023-01-31 18:30:00'}}"
      ]
     },
     "execution_count": 5,
     "metadata": {},
     "output_type": "execute_result"
    }
   ],
   "source": [
    "json.loads(ret.text)"
   ]
  },
  {
   "cell_type": "code",
   "execution_count": 6,
   "metadata": {},
   "outputs": [],
   "source": [
    "def quote(value:float, pair:str):\n",
    "    '''\n",
    "        Converts a value in currency 1 to the currency 2 on the pair.\n",
    "        :param value: Value in currency 1 to be converted\n",
    "        :param pair: String containing a pair. Ex: USD-BRL (currency1-currency2)\n",
    "    '''\n",
    "    url = f'https://economia.awesomeapi.com.br/json/last/{pair}'\n",
    "    ret = requests.get(url)\n",
    "    currency_1 = json.loads(ret.text)[f'{pair.replace(\"-\", \"\")}']\n",
    "    print(f\"{value} {pair[:3]} costs {float(currency_1['bid']) * value} {pair[4:]} today\")"
   ]
  },
  {
   "cell_type": "code",
   "execution_count": 7,
   "metadata": {},
   "outputs": [
    {
     "name": "stdout",
     "output_type": "stream",
     "text": [
      "20 USD costs 101.462 BRL today\n"
     ]
    }
   ],
   "source": [
    "quote(20, 'USD-BRL')"
   ]
  },
  {
   "cell_type": "code",
   "execution_count": 8,
   "metadata": {},
   "outputs": [
    {
     "name": "stdout",
     "output_type": "stream",
     "text": [
      "20 JPY costs 0.7797999999999999 BRL today\n"
     ]
    }
   ],
   "source": [
    "quote(20, 'JPY-BRL')"
   ]
  },
  {
   "cell_type": "code",
   "execution_count": 9,
   "metadata": {},
   "outputs": [
    {
     "ename": "KeyError",
     "evalue": "'Arthur'",
     "output_type": "error",
     "traceback": [
      "\u001b[1;31m---------------------------------------------------------------------------\u001b[0m",
      "\u001b[1;31mKeyError\u001b[0m                                  Traceback (most recent call last)",
      "Cell \u001b[1;32mIn[9], line 1\u001b[0m\n\u001b[1;32m----> 1\u001b[0m quote(\u001b[39m20\u001b[39;49m, \u001b[39m'\u001b[39;49m\u001b[39mArthur\u001b[39;49m\u001b[39m'\u001b[39;49m)\n",
      "Cell \u001b[1;32mIn[6], line 9\u001b[0m, in \u001b[0;36mquote\u001b[1;34m(value, pair)\u001b[0m\n\u001b[0;32m      7\u001b[0m url \u001b[39m=\u001b[39m \u001b[39mf\u001b[39m\u001b[39m'\u001b[39m\u001b[39mhttps://economia.awesomeapi.com.br/json/last/\u001b[39m\u001b[39m{\u001b[39;00mpair\u001b[39m}\u001b[39;00m\u001b[39m'\u001b[39m\n\u001b[0;32m      8\u001b[0m ret \u001b[39m=\u001b[39m requests\u001b[39m.\u001b[39mget(url)\n\u001b[1;32m----> 9\u001b[0m currency_1 \u001b[39m=\u001b[39m json\u001b[39m.\u001b[39;49mloads(ret\u001b[39m.\u001b[39;49mtext)[\u001b[39mf\u001b[39;49m\u001b[39m'\u001b[39;49m\u001b[39m{\u001b[39;49;00mpair\u001b[39m.\u001b[39;49mreplace(\u001b[39m\"\u001b[39;49m\u001b[39m-\u001b[39;49m\u001b[39m\"\u001b[39;49m,\u001b[39m \u001b[39;49m\u001b[39m\"\u001b[39;49m\u001b[39m\"\u001b[39;49m)\u001b[39m}\u001b[39;49;00m\u001b[39m'\u001b[39;49m]\n\u001b[0;32m     10\u001b[0m \u001b[39mprint\u001b[39m(\u001b[39mf\u001b[39m\u001b[39m\"\u001b[39m\u001b[39m{\u001b[39;00mvalue\u001b[39m}\u001b[39;00m\u001b[39m \u001b[39m\u001b[39m{\u001b[39;00mpair[:\u001b[39m3\u001b[39m]\u001b[39m}\u001b[39;00m\u001b[39m costs \u001b[39m\u001b[39m{\u001b[39;00m\u001b[39mfloat\u001b[39m(currency_1[\u001b[39m'\u001b[39m\u001b[39mbid\u001b[39m\u001b[39m'\u001b[39m])\u001b[39m \u001b[39m\u001b[39m*\u001b[39m\u001b[39m \u001b[39mvalue\u001b[39m}\u001b[39;00m\u001b[39m \u001b[39m\u001b[39m{\u001b[39;00mpair[\u001b[39m4\u001b[39m:]\u001b[39m}\u001b[39;00m\u001b[39m today\u001b[39m\u001b[39m\"\u001b[39m)\n",
      "\u001b[1;31mKeyError\u001b[0m: 'Arthur'"
     ]
    }
   ],
   "source": [
    "quote(20, 'Arthur')"
   ]
  },
  {
   "attachments": {},
   "cell_type": "markdown",
   "metadata": {},
   "source": [
    "You can treat exceptions"
   ]
  },
  {
   "cell_type": "code",
   "execution_count": 11,
   "metadata": {},
   "outputs": [
    {
     "name": "stdout",
     "output_type": "stream",
     "text": [
      "'Arthur'\n"
     ]
    }
   ],
   "source": [
    "try:\n",
    "    quote(20, 'Arthur')\n",
    "except Exception as e:\n",
    "    print(e)\n",
    "else:\n",
    "    print(\"OK\")"
   ]
  },
  {
   "cell_type": "code",
   "execution_count": 12,
   "metadata": {},
   "outputs": [],
   "source": [
    "list_currencies_pairs = [\n",
    "    \"USD-BRL\",\n",
    "    \"EUR-BRL\",\n",
    "    \"BTC-BRL\",\n",
    "    \"CRE-BRL\" # republican credits to BRL\n",
    "]"
   ]
  },
  {
   "cell_type": "code",
   "execution_count": 13,
   "metadata": {},
   "outputs": [
    {
     "name": "stdout",
     "output_type": "stream",
     "text": [
      "20 USD costs 101.462 BRL today\n",
      "20 EUR costs 110.188 BRL today\n",
      "20 BTC costs 2345.5 BRL today\n",
      "Failed to get pair: CRE-BRL\n"
     ]
    }
   ],
   "source": [
    "for currency_pair in list_currencies_pairs:\n",
    "    try:\n",
    "        quote(20, currency_pair)\n",
    "    except:\n",
    "        print(f\"Failed to get pair: {currency_pair}\")"
   ]
  },
  {
   "cell_type": "code",
   "execution_count": 14,
   "metadata": {},
   "outputs": [],
   "source": [
    "def multi_quote(value:float, pair_list:list):\n",
    "    '''\n",
    "        Converts a value in currency 1 to the currency 2 on the pair.\n",
    "        :param value: Value in currency 1 to be converted\n",
    "        :param pair_list: List of strings containing pairs. Ex: [\"USD-BRL\",\"EUR-BRL\",\"BTC-BRL\"] (currency1-currency2)\n",
    "    '''\n",
    "    for currency_pair in pair_list:\n",
    "        try:\n",
    "            quote(value, currency_pair)\n",
    "        except:\n",
    "            print(f\"Failed to get pair: {currency_pair}\")"
   ]
  },
  {
   "cell_type": "code",
   "execution_count": 15,
   "metadata": {},
   "outputs": [
    {
     "name": "stdout",
     "output_type": "stream",
     "text": [
      "20 USD costs 101.462 BRL today\n",
      "20 EUR costs 110.188 BRL today\n",
      "20 BTC costs 2345.5 BRL today\n",
      "Failed to get pair: CRE-BRL\n"
     ]
    }
   ],
   "source": [
    "multi_quote(20, list_currencies_pairs)"
   ]
  },
  {
   "attachments": {},
   "cell_type": "markdown",
   "metadata": {},
   "source": [
    "Creating a decorator for error check"
   ]
  },
  {
   "cell_type": "code",
   "execution_count": 16,
   "metadata": {},
   "outputs": [],
   "source": [
    "def error_check(func):\n",
    "    def inner_func(*args, **kargs):\n",
    "        try:\n",
    "            func(*args, **kargs)\n",
    "        except:\n",
    "            print(f\"{func.__name__} falhou\")\n",
    "    return inner_func"
   ]
  },
  {
   "cell_type": "code",
   "execution_count": 17,
   "metadata": {},
   "outputs": [],
   "source": [
    "@error_check\n",
    "def quote(value:float, pair:str):\n",
    "    '''\n",
    "        Converts a value in currency 1 to the currency 2 on the pair.\n",
    "        :param value: Value in currency 1 to be converted\n",
    "        :param pair: String containing a pair. Ex: USD-BRL (currency1-currency2)\n",
    "    '''\n",
    "    url = f'https://economia.awesomeapi.com.br/json/last/{pair}'\n",
    "    ret = requests.get(url)\n",
    "    currency_1 = json.loads(ret.text)[f'{pair.replace(\"-\", \"\")}']\n",
    "    print(f\"{value} {pair[:3]} costs {float(currency_1['bid']) * value} {pair[4:]} today\")"
   ]
  },
  {
   "cell_type": "code",
   "execution_count": 18,
   "metadata": {},
   "outputs": [],
   "source": [
    "def multi_quote(value:float, pair_list:list):\n",
    "    '''\n",
    "        Converts a value in currency 1 to the currency 2 on the pair.\n",
    "        :param value: Value in currency 1 to be converted\n",
    "        :param pair_list: List of strings containing pairs. Ex: [\"USD-BRL\",\"EUR-BRL\",\"BTC-BRL\"] (currency1-currency2)\n",
    "    '''\n",
    "    for currency_pair in pair_list:\n",
    "        quote(value, currency_pair)"
   ]
  },
  {
   "cell_type": "code",
   "execution_count": 19,
   "metadata": {},
   "outputs": [
    {
     "name": "stdout",
     "output_type": "stream",
     "text": [
      "20 USD costs 101.462 BRL today\n",
      "20 EUR costs 110.188 BRL today\n",
      "20 BTC costs 2345.5 BRL today\n",
      "quote falhou\n"
     ]
    }
   ],
   "source": [
    "multi_quote(20, list_currencies_pairs)"
   ]
  },
  {
   "attachments": {},
   "cell_type": "markdown",
   "metadata": {},
   "source": [
    "Creating a decorator for treating several error could be time consuming. Module backoff has some helpful functions"
   ]
  },
  {
   "cell_type": "code",
   "execution_count": 20,
   "metadata": {},
   "outputs": [],
   "source": [
    "import backoff"
   ]
  },
  {
   "attachments": {},
   "cell_type": "markdown",
   "metadata": {},
   "source": [
    "An example here is to demonstrate the usage of a backoff decorator"
   ]
  },
  {
   "cell_type": "code",
   "execution_count": 21,
   "metadata": {},
   "outputs": [],
   "source": [
    "import random\n",
    "\n",
    "#This receives a delay between tries, expo defines an exponential delay, then a list of exception triggers for backoff, then maximum tryouts.\n",
    "@backoff.on_exception(backoff.expo, (ConnectionAbortedError, ConnectionRefusedError, TimeoutError), max_tries=10)\n",
    "def test_func(*args, **kargs):\n",
    "    rnd = random.random()\n",
    "    print(f'''\n",
    "        RND: {rnd}\n",
    "        args: {args if args else \"no args\"}\n",
    "        kargs: {kargs if kargs else \"no kargs\"}\n",
    "    ''')\n",
    "\n",
    "    if rnd < .2:\n",
    "        raise ConnectionAbortedError('Connection terminated.')\n",
    "    if rnd < .4:\n",
    "        raise ConnectionRefusedError('Connection refused.')\n",
    "    if rnd < .6:\n",
    "        raise TimeoutError('Connection timeout.')\n",
    "    else:\n",
    "        return \"OK!\""
   ]
  },
  {
   "cell_type": "code",
   "execution_count": 22,
   "metadata": {},
   "outputs": [
    {
     "name": "stdout",
     "output_type": "stream",
     "text": [
      "\n",
      "        RND: 0.056215405818748065\n",
      "        args: no args\n",
      "        kargs: no kargs\n",
      "    \n",
      "\n",
      "        RND: 0.2048303581803954\n",
      "        args: no args\n",
      "        kargs: no kargs\n",
      "    \n",
      "\n",
      "        RND: 0.5349659465554673\n",
      "        args: no args\n",
      "        kargs: no kargs\n",
      "    \n",
      "\n",
      "        RND: 0.09502265502849228\n",
      "        args: no args\n",
      "        kargs: no kargs\n",
      "    \n",
      "\n",
      "        RND: 0.6665431741009749\n",
      "        args: no args\n",
      "        kargs: no kargs\n",
      "    \n"
     ]
    },
    {
     "data": {
      "text/plain": [
       "'OK!'"
      ]
     },
     "execution_count": 22,
     "metadata": {},
     "output_type": "execute_result"
    }
   ],
   "source": [
    "test_func()"
   ]
  },
  {
   "cell_type": "code",
   "execution_count": 23,
   "metadata": {},
   "outputs": [
    {
     "name": "stdout",
     "output_type": "stream",
     "text": [
      "\n",
      "        RND: 0.622708691617228\n",
      "        args: (10,)\n",
      "        kargs: {'name': 'testing'}\n",
      "    \n"
     ]
    },
    {
     "data": {
      "text/plain": [
       "'OK!'"
      ]
     },
     "execution_count": 23,
     "metadata": {},
     "output_type": "execute_result"
    }
   ],
   "source": [
    "test_func(10, name=\"testing\")"
   ]
  },
  {
   "cell_type": "code",
   "execution_count": 24,
   "metadata": {},
   "outputs": [],
   "source": [
    "import logging"
   ]
  },
  {
   "attachments": {},
   "cell_type": "markdown",
   "metadata": {},
   "source": [
    "Creates a logger with level DEBUG and a formatter for the logging message"
   ]
  },
  {
   "cell_type": "code",
   "execution_count": 25,
   "metadata": {},
   "outputs": [],
   "source": [
    "log = logging.getLogger()\n",
    "log.setLevel(logging.DEBUG)\n",
    "formatter = logging.Formatter(\n",
    "    '%(asctime)s - %(name)s - %(levelname)s - %(message)s'\n",
    ")"
   ]
  },
  {
   "attachments": {},
   "cell_type": "markdown",
   "metadata": {},
   "source": [
    "Now creates a stream handler for the logging messages using the declared formatter and sets it as the log handler"
   ]
  },
  {
   "cell_type": "code",
   "execution_count": 26,
   "metadata": {},
   "outputs": [],
   "source": [
    "ch = logging.StreamHandler()\n",
    "ch.setFormatter(formatter)\n",
    "log.addHandler(ch)"
   ]
  },
  {
   "attachments": {},
   "cell_type": "markdown",
   "metadata": {},
   "source": [
    "Now we can use it instead of print to give meaningful messages"
   ]
  },
  {
   "cell_type": "code",
   "execution_count": 27,
   "metadata": {},
   "outputs": [],
   "source": [
    "import random\n",
    "\n",
    "#This receives a delay between tries, expo defines an exponential delay, then a list of exception triggers for backoff, then maximum tryouts.\n",
    "@backoff.on_exception(backoff.expo, (ConnectionAbortedError, ConnectionRefusedError, TimeoutError), max_tries=10)\n",
    "def test_func(*args, **kargs):\n",
    "    rnd = random.random()\n",
    "    log.debug(f\"RND: {rnd}\")\n",
    "    log.info(f\"args: {args if args else 'no args'}\")\n",
    "    log.info(f\"kargs: {kargs if kargs else 'no kargs'}\")\n",
    "\n",
    "    if rnd < .2:\n",
    "        log.error('Connection terminated.')\n",
    "        raise ConnectionAbortedError('Connection terminated.')\n",
    "    if rnd < .4:\n",
    "        log.error('Connection refused.')\n",
    "        raise ConnectionRefusedError('Connection refused.')\n",
    "    if rnd < .6:\n",
    "        log.error('Connection timeout.')\n",
    "        raise TimeoutError('Connection timeout.')\n",
    "    else:\n",
    "        return \"OK!\""
   ]
  },
  {
   "cell_type": "code",
   "execution_count": 28,
   "metadata": {},
   "outputs": [
    {
     "name": "stderr",
     "output_type": "stream",
     "text": [
      "2023-01-31 19:52:01,189 - root - DEBUG - RND: 0.6605591138381511\n",
      "2023-01-31 19:52:01,190 - root - INFO - args: no args\n",
      "2023-01-31 19:52:01,190 - root - INFO - kargs: no kargs\n"
     ]
    },
    {
     "data": {
      "text/plain": [
       "'OK!'"
      ]
     },
     "execution_count": 28,
     "metadata": {},
     "output_type": "execute_result"
    }
   ],
   "source": [
    "test_func()"
   ]
  },
  {
   "attachments": {},
   "cell_type": "markdown",
   "metadata": {},
   "source": [
    "My log formatting.\n",
    "\n",
    "This implementation has colors, bold font and also process, thread, timestamp, module and line logging.\n",
    "\n",
    "This is also saved on a .log file automatically"
   ]
  },
  {
   "cell_type": "code",
   "execution_count": 63,
   "metadata": {},
   "outputs": [],
   "source": [
    "import logging\n",
    "import os\n",
    "# Color number definition\n",
    "BLACK, RED, GREEN, YELLOW, BLUE, MAGENTA, CYAN, WHITE = range(8)\n",
    "\n",
    "# These are the sequences need to get colored output\n",
    "RESET_SEQ = \"\\033[0m\"\n",
    "COLOR_SEQ = \"\\033[1;%dm\"\n",
    "BOLD_SEQ = \"\\033[1m\"\n",
    "\n",
    "COLORS = {\n",
    "    'WARNING': YELLOW,\n",
    "    'INFO': WHITE,\n",
    "    'DEBUG': BLUE,\n",
    "    'CRITICAL': RED,\n",
    "    'ERROR': RED\n",
    "}\n",
    "\n",
    "# Special function used to ease a message formatting edition\n",
    "\n",
    "\n",
    "def formatter_message(message, use_color=True):\n",
    "    if use_color:\n",
    "        message = message.replace(\n",
    "            \"$RESET\", RESET_SEQ).replace(\"$BOLD\", BOLD_SEQ)\n",
    "    else:\n",
    "        message = message.replace(\"$RESET\", \"\").replace(\"$BOLD\", \"\")\n",
    "    return message\n",
    "\n",
    "# Format log level name color accordinly\n",
    "\n",
    "\n",
    "class ColoredFormatter(logging.Formatter):\n",
    "    def __init__(self, msg, use_color=True):\n",
    "        logging.Formatter.__init__(self, msg)\n",
    "        self.use_color = use_color\n",
    "\n",
    "    def format(self, record):\n",
    "        levelname = record.levelname\n",
    "        if self.use_color and levelname in COLORS:\n",
    "            levelname_color = COLOR_SEQ % (\n",
    "                30 + COLORS[levelname]) + levelname + RESET_SEQ\n",
    "            record.levelname = levelname_color\n",
    "        return logging.Formatter.format(self, record)\n",
    "\n",
    "# Logger class used in all logging operations\n",
    "\n",
    "\n",
    "class log(logging.Logger):\n",
    "    # Message format with collors \\033[1;35m = Magenta\n",
    "    FORMAT = '\\033[35m%(asctime)s\\033[0m [$BOLD%(levelname)-18s$RESET]\\033[35m [%(processName)s][%(threadName)s][%(module)s]\\033[0m %(message)s - $BOLDLine:%(lineno)d$RESET'\n",
    "    COLOR_FORMAT = formatter_message(FORMAT, True)\n",
    "\n",
    "    def __init__(self, name='my_logger'):\n",
    "        # Create logger with debug level\n",
    "        logging.Logger.__init__(self, name, logging.DEBUG)\n",
    "\n",
    "        # create console handler and set level to debug\n",
    "        if not self.handlers:\n",
    "            color_formatter = ColoredFormatter(self.COLOR_FORMAT)\n",
    "            ch = logging.StreamHandler()\n",
    "            ch.setLevel(logging.DEBUG)\n",
    "            # add formatter to ch\n",
    "            ch.setFormatter(color_formatter)\n",
    "            # add ch to logger\n",
    "            self.addHandler(ch)\n",
    "\n",
    "            log_file = logging.FileHandler(\n",
    "                filename=os.getcwd()+f'/logs/{name}.log', mode='w+', encoding='utf8')\n",
    "            formatter = logging.Formatter(\n",
    "                '%(asctime)s [%(levelname)-18s][%(processName)s][%(threadName)s][%(module)s] %(message)s - %(lineno)d')\n",
    "            log_file.setFormatter(formatter)\n",
    "            log_file.setLevel(logging.DEBUG)\n",
    "            self.addHandler(log_file)\n"
   ]
  },
  {
   "cell_type": "code",
   "execution_count": 64,
   "metadata": {},
   "outputs": [],
   "source": [
    "log = log('my_log')"
   ]
  },
  {
   "cell_type": "code",
   "execution_count": 65,
   "metadata": {},
   "outputs": [
    {
     "name": "stderr",
     "output_type": "stream",
     "text": [
      "\u001b[35m2023-01-31 20:16:49,672\u001b[0m [\u001b[1m\u001b[1;34mDEBUG\u001b[0m  \u001b[0m]\u001b[35m [MainProcess][MainThread][2423809063]\u001b[0m RND: 0.10923189215577123 - \u001b[1mLine:7\u001b[0m\n",
      "\u001b[35m2023-01-31 20:16:49,675\u001b[0m [\u001b[1m\u001b[1;37mINFO\u001b[0m   \u001b[0m]\u001b[35m [MainProcess][MainThread][2423809063]\u001b[0m args: no args - \u001b[1mLine:8\u001b[0m\n",
      "\u001b[35m2023-01-31 20:16:49,676\u001b[0m [\u001b[1m\u001b[1;37mINFO\u001b[0m   \u001b[0m]\u001b[35m [MainProcess][MainThread][2423809063]\u001b[0m kargs: no kargs - \u001b[1mLine:9\u001b[0m\n",
      "\u001b[35m2023-01-31 20:16:49,677\u001b[0m [\u001b[1m\u001b[1;31mERROR\u001b[0m  \u001b[0m]\u001b[35m [MainProcess][MainThread][2423809063]\u001b[0m Connection terminated. - \u001b[1mLine:12\u001b[0m\n",
      "2023-01-31 20:16:49,678 - backoff - INFO - Backing off test_func(...) for 0.5s (ConnectionAbortedError: Connection terminated.)\n",
      "\u001b[35m2023-01-31 20:16:50,220\u001b[0m [\u001b[1m\u001b[1;34mDEBUG\u001b[0m  \u001b[0m]\u001b[35m [MainProcess][MainThread][2423809063]\u001b[0m RND: 0.19068389722997026 - \u001b[1mLine:7\u001b[0m\n",
      "\u001b[35m2023-01-31 20:16:50,221\u001b[0m [\u001b[1m\u001b[1;37mINFO\u001b[0m   \u001b[0m]\u001b[35m [MainProcess][MainThread][2423809063]\u001b[0m args: no args - \u001b[1mLine:8\u001b[0m\n",
      "\u001b[35m2023-01-31 20:16:50,223\u001b[0m [\u001b[1m\u001b[1;37mINFO\u001b[0m   \u001b[0m]\u001b[35m [MainProcess][MainThread][2423809063]\u001b[0m kargs: no kargs - \u001b[1mLine:9\u001b[0m\n",
      "\u001b[35m2023-01-31 20:16:50,225\u001b[0m [\u001b[1m\u001b[1;31mERROR\u001b[0m  \u001b[0m]\u001b[35m [MainProcess][MainThread][2423809063]\u001b[0m Connection terminated. - \u001b[1mLine:12\u001b[0m\n",
      "2023-01-31 20:16:50,226 - backoff - INFO - Backing off test_func(...) for 0.3s (ConnectionAbortedError: Connection terminated.)\n",
      "\u001b[35m2023-01-31 20:16:50,493\u001b[0m [\u001b[1m\u001b[1;34mDEBUG\u001b[0m  \u001b[0m]\u001b[35m [MainProcess][MainThread][2423809063]\u001b[0m RND: 0.5783147141496956 - \u001b[1mLine:7\u001b[0m\n",
      "\u001b[35m2023-01-31 20:16:50,495\u001b[0m [\u001b[1m\u001b[1;37mINFO\u001b[0m   \u001b[0m]\u001b[35m [MainProcess][MainThread][2423809063]\u001b[0m args: no args - \u001b[1mLine:8\u001b[0m\n",
      "\u001b[35m2023-01-31 20:16:50,496\u001b[0m [\u001b[1m\u001b[1;37mINFO\u001b[0m   \u001b[0m]\u001b[35m [MainProcess][MainThread][2423809063]\u001b[0m kargs: no kargs - \u001b[1mLine:9\u001b[0m\n",
      "\u001b[35m2023-01-31 20:16:50,497\u001b[0m [\u001b[1m\u001b[1;31mERROR\u001b[0m  \u001b[0m]\u001b[35m [MainProcess][MainThread][2423809063]\u001b[0m Connection timeout. - \u001b[1mLine:18\u001b[0m\n",
      "2023-01-31 20:16:50,498 - backoff - INFO - Backing off test_func(...) for 1.6s (TimeoutError: Connection timeout.)\n",
      "\u001b[35m2023-01-31 20:16:52,093\u001b[0m [\u001b[1m\u001b[1;34mDEBUG\u001b[0m  \u001b[0m]\u001b[35m [MainProcess][MainThread][2423809063]\u001b[0m RND: 0.6717849295743803 - \u001b[1mLine:7\u001b[0m\n",
      "\u001b[35m2023-01-31 20:16:52,094\u001b[0m [\u001b[1m\u001b[1;37mINFO\u001b[0m   \u001b[0m]\u001b[35m [MainProcess][MainThread][2423809063]\u001b[0m args: no args - \u001b[1mLine:8\u001b[0m\n",
      "\u001b[35m2023-01-31 20:16:52,095\u001b[0m [\u001b[1m\u001b[1;37mINFO\u001b[0m   \u001b[0m]\u001b[35m [MainProcess][MainThread][2423809063]\u001b[0m kargs: no kargs - \u001b[1mLine:9\u001b[0m\n"
     ]
    },
    {
     "data": {
      "text/plain": [
       "'OK!'"
      ]
     },
     "execution_count": 65,
     "metadata": {},
     "output_type": "execute_result"
    }
   ],
   "source": [
    "test_func()"
   ]
  }
 ],
 "metadata": {
  "kernelspec": {
   "display_name": ".venv",
   "language": "python",
   "name": "python3"
  },
  "language_info": {
   "codemirror_mode": {
    "name": "ipython",
    "version": 3
   },
   "file_extension": ".py",
   "mimetype": "text/x-python",
   "name": "python",
   "nbconvert_exporter": "python",
   "pygments_lexer": "ipython3",
   "version": "3.11.0 (main, Oct 24 2022, 18:26:48) [MSC v.1933 64 bit (AMD64)]"
  },
  "orig_nbformat": 4,
  "vscode": {
   "interpreter": {
    "hash": "a2e86e5a5b0be2109e49e65e7d65e941da365b30ffc99c95081295d65ff8e367"
   }
  }
 },
 "nbformat": 4,
 "nbformat_minor": 2
}
