{
 "cells": [
  {
   "attachments": {},
   "cell_type": "markdown",
   "metadata": {},
   "source": [
    "# API access exercise\n",
    "\n",
    "This script tests API requests for currency quotations and also exception handling using backoff as a function decorator"
   ]
  },
  {
   "cell_type": "code",
   "execution_count": 82,
   "metadata": {},
   "outputs": [],
   "source": [
    "import requests\n",
    "import json"
   ]
  },
  {
   "cell_type": "code",
   "execution_count": 7,
   "metadata": {},
   "outputs": [],
   "source": [
    "url = 'https://economia.awesomeapi.com.br/json/last/USD-BRL'\n",
    "ret = requests.get(url)"
   ]
  },
  {
   "cell_type": "code",
   "execution_count": 8,
   "metadata": {},
   "outputs": [
    {
     "name": "stdout",
     "output_type": "stream",
     "text": [
      "Requisição concluída com código <Response [200]>\n",
      "{\"USDBRL\":{\"code\":\"USD\",\"codein\":\"BRL\",\"name\":\"Dólar Americano/Real Brasileiro\",\"high\":\"5.1167\",\"low\":\"5.1166\",\"varBid\":\"0.0004\",\"pctChange\":\"0.01\",\"bid\":\"5.1162\",\"ask\":\"5.1171\",\"timestamp\":\"1675120896\",\"create_date\":\"2023-01-30 20:21:36\"}}\n"
     ]
    }
   ],
   "source": [
    "if ret:\n",
    "    print(f\"Requisição concluída com código {ret}\")\n",
    "    print(ret.text)\n",
    "else:\n",
    "    print(f\"Requisição falhou! Código {ret}\")"
   ]
  },
  {
   "cell_type": "code",
   "execution_count": 9,
   "metadata": {},
   "outputs": [
    {
     "data": {
      "text/plain": [
       "{'USDBRL': {'code': 'USD',\n",
       "  'codein': 'BRL',\n",
       "  'name': 'Dólar Americano/Real Brasileiro',\n",
       "  'high': '5.1167',\n",
       "  'low': '5.1166',\n",
       "  'varBid': '0.0004',\n",
       "  'pctChange': '0.01',\n",
       "  'bid': '5.1162',\n",
       "  'ask': '5.1171',\n",
       "  'timestamp': '1675120896',\n",
       "  'create_date': '2023-01-30 20:21:36'}}"
      ]
     },
     "execution_count": 9,
     "metadata": {},
     "output_type": "execute_result"
    }
   ],
   "source": [
    "json.loads(ret.text)"
   ]
  },
  {
   "cell_type": "code",
   "execution_count": 28,
   "metadata": {},
   "outputs": [],
   "source": [
    "def quote(value:float, pair:str):\n",
    "    '''\n",
    "        Converts a value in currency 1 to the currency 2 on the pair.\n",
    "        :param value: Value in currency 1 to be converted\n",
    "        :param pair: String containing a pair. Ex: USD-BRL (currency1-currency2)\n",
    "    '''\n",
    "    url = f'https://economia.awesomeapi.com.br/json/last/{pair}'\n",
    "    ret = requests.get(url)\n",
    "    currency_1 = json.loads(ret.text)[f'{pair.replace(\"-\", \"\")}']\n",
    "    print(f\"{value} {pair[:3]} costs {float(currency_1['bid']) * value} {pair[4:]} today\")"
   ]
  },
  {
   "cell_type": "code",
   "execution_count": 29,
   "metadata": {},
   "outputs": [
    {
     "name": "stdout",
     "output_type": "stream",
     "text": [
      "20 USD costs 102.324 BRL today\n"
     ]
    }
   ],
   "source": [
    "quote(20, 'USD-BRL')"
   ]
  },
  {
   "cell_type": "code",
   "execution_count": 30,
   "metadata": {},
   "outputs": [
    {
     "name": "stdout",
     "output_type": "stream",
     "text": [
      "20 JPY costs 0.7842 BRL today\n"
     ]
    }
   ],
   "source": [
    "quote(20, 'JPY-BRL')"
   ]
  },
  {
   "cell_type": "code",
   "execution_count": 31,
   "metadata": {},
   "outputs": [
    {
     "ename": "KeyError",
     "evalue": "'Arthur'",
     "output_type": "error",
     "traceback": [
      "\u001b[1;31m---------------------------------------------------------------------------\u001b[0m",
      "\u001b[1;31mKeyError\u001b[0m                                  Traceback (most recent call last)",
      "Cell \u001b[1;32mIn[31], line 1\u001b[0m\n\u001b[1;32m----> 1\u001b[0m quote(\u001b[39m20\u001b[39;49m, \u001b[39m'\u001b[39;49m\u001b[39mArthur\u001b[39;49m\u001b[39m'\u001b[39;49m)\n",
      "Cell \u001b[1;32mIn[28], line 9\u001b[0m, in \u001b[0;36mquote\u001b[1;34m(value, pair)\u001b[0m\n\u001b[0;32m      7\u001b[0m url \u001b[39m=\u001b[39m \u001b[39mf\u001b[39m\u001b[39m'\u001b[39m\u001b[39mhttps://economia.awesomeapi.com.br/json/last/\u001b[39m\u001b[39m{\u001b[39;00mpair\u001b[39m}\u001b[39;00m\u001b[39m'\u001b[39m\n\u001b[0;32m      8\u001b[0m ret \u001b[39m=\u001b[39m requests\u001b[39m.\u001b[39mget(url)\n\u001b[1;32m----> 9\u001b[0m currency_1 \u001b[39m=\u001b[39m json\u001b[39m.\u001b[39;49mloads(ret\u001b[39m.\u001b[39;49mtext)[\u001b[39mf\u001b[39;49m\u001b[39m'\u001b[39;49m\u001b[39m{\u001b[39;49;00mpair\u001b[39m.\u001b[39;49mreplace(\u001b[39m\"\u001b[39;49m\u001b[39m-\u001b[39;49m\u001b[39m\"\u001b[39;49m,\u001b[39m \u001b[39;49m\u001b[39m\"\u001b[39;49m\u001b[39m\"\u001b[39;49m)\u001b[39m}\u001b[39;49;00m\u001b[39m'\u001b[39;49m]\n\u001b[0;32m     10\u001b[0m \u001b[39mprint\u001b[39m(\u001b[39mf\u001b[39m\u001b[39m\"\u001b[39m\u001b[39m{\u001b[39;00mvalue\u001b[39m}\u001b[39;00m\u001b[39m \u001b[39m\u001b[39m{\u001b[39;00mpair[:\u001b[39m3\u001b[39m]\u001b[39m}\u001b[39;00m\u001b[39m costs \u001b[39m\u001b[39m{\u001b[39;00m\u001b[39mfloat\u001b[39m(currency_1[\u001b[39m'\u001b[39m\u001b[39mbid\u001b[39m\u001b[39m'\u001b[39m])\u001b[39m \u001b[39m\u001b[39m*\u001b[39m\u001b[39m \u001b[39mvalue\u001b[39m}\u001b[39;00m\u001b[39m \u001b[39m\u001b[39m{\u001b[39;00mpair[\u001b[39m4\u001b[39m:]\u001b[39m}\u001b[39;00m\u001b[39m today\u001b[39m\u001b[39m\"\u001b[39m)\n",
      "\u001b[1;31mKeyError\u001b[0m: 'Arthur'"
     ]
    }
   ],
   "source": [
    "quote(20, 'Arthur')"
   ]
  },
  {
   "attachments": {},
   "cell_type": "markdown",
   "metadata": {},
   "source": [
    "You can treat exceptions"
   ]
  },
  {
   "cell_type": "code",
   "execution_count": 35,
   "metadata": {},
   "outputs": [
    {
     "name": "stdout",
     "output_type": "stream",
     "text": [
      "'Arthur'\n"
     ]
    }
   ],
   "source": [
    "try:\n",
    "    quote(20, 'Arthur')\n",
    "except Exception as e:\n",
    "    print(e)\n",
    "else:\n",
    "    print(\"OK\")"
   ]
  },
  {
   "cell_type": "code",
   "execution_count": 39,
   "metadata": {},
   "outputs": [],
   "source": [
    "list_currencies_pairs = [\n",
    "    \"USD-BRL\",\n",
    "    \"EUR-BRL\",\n",
    "    \"BTC-BRL\",\n",
    "    \"CRE-BRL\" # republican credits to BRL\n",
    "]"
   ]
  },
  {
   "cell_type": "code",
   "execution_count": 42,
   "metadata": {},
   "outputs": [
    {
     "name": "stdout",
     "output_type": "stream",
     "text": [
      "20 USD costs 102.324 BRL today\n",
      "20 EUR costs 110.99000000000001 BRL today\n",
      "20 BTC costs 2341.54 BRL today\n",
      "Failed to get pair: CRE-BRL\n"
     ]
    }
   ],
   "source": [
    "for currency_pair in list_currencies_pairs:\n",
    "    try:\n",
    "        quote(20, currency_pair)\n",
    "    except:\n",
    "        print(f\"Failed to get pair: {currency_pair}\")"
   ]
  },
  {
   "cell_type": "code",
   "execution_count": 64,
   "metadata": {},
   "outputs": [],
   "source": [
    "def multi_quote(value:float, pair_list:list):\n",
    "    '''\n",
    "        Converts a value in currency 1 to the currency 2 on the pair.\n",
    "        :param value: Value in currency 1 to be converted\n",
    "        :param pair_list: List of strings containing pairs. Ex: [\"USD-BRL\",\"EUR-BRL\",\"BTC-BRL\"] (currency1-currency2)\n",
    "    '''\n",
    "    for currency_pair in pair_list:\n",
    "        try:\n",
    "            quote(value, currency_pair)\n",
    "        except:\n",
    "            print(f\"Failed to get pair: {currency_pair}\")"
   ]
  },
  {
   "cell_type": "code",
   "execution_count": 45,
   "metadata": {},
   "outputs": [
    {
     "name": "stdout",
     "output_type": "stream",
     "text": [
      "20 USD costs 102.324 BRL today\n",
      "20 EUR costs 110.99000000000001 BRL today\n",
      "20 BTC costs 2341.2799999999997 BRL today\n",
      "Failed to get pair: CRE-BRL\n"
     ]
    }
   ],
   "source": [
    "multi_quote(20, list_currencies_pairs)"
   ]
  },
  {
   "attachments": {},
   "cell_type": "markdown",
   "metadata": {},
   "source": [
    "Creating a decorator for error check"
   ]
  },
  {
   "cell_type": "code",
   "execution_count": 69,
   "metadata": {},
   "outputs": [],
   "source": [
    "def error_check(func):\n",
    "    def inner_func(*args, **kargs):\n",
    "        try:\n",
    "            func(*args, **kargs)\n",
    "        except:\n",
    "            print(f\"{func.__name__} falhou\")\n",
    "    return inner_func"
   ]
  },
  {
   "cell_type": "code",
   "execution_count": 70,
   "metadata": {},
   "outputs": [],
   "source": [
    "@error_check\n",
    "def quote(value:float, pair:str):\n",
    "    '''\n",
    "        Converts a value in currency 1 to the currency 2 on the pair.\n",
    "        :param value: Value in currency 1 to be converted\n",
    "        :param pair: String containing a pair. Ex: USD-BRL (currency1-currency2)\n",
    "    '''\n",
    "    url = f'https://economia.awesomeapi.com.br/json/last/{pair}'\n",
    "    ret = requests.get(url)\n",
    "    currency_1 = json.loads(ret.text)[f'{pair.replace(\"-\", \"\")}']\n",
    "    print(f\"{value} {pair[:3]} costs {float(currency_1['bid']) * value} {pair[4:]} today\")"
   ]
  },
  {
   "cell_type": "code",
   "execution_count": 71,
   "metadata": {},
   "outputs": [],
   "source": [
    "def multi_quote(value:float, pair_list:list):\n",
    "    '''\n",
    "        Converts a value in currency 1 to the currency 2 on the pair.\n",
    "        :param value: Value in currency 1 to be converted\n",
    "        :param pair_list: List of strings containing pairs. Ex: [\"USD-BRL\",\"EUR-BRL\",\"BTC-BRL\"] (currency1-currency2)\n",
    "    '''\n",
    "    for currency_pair in pair_list:\n",
    "        quote(value, currency_pair)"
   ]
  },
  {
   "cell_type": "code",
   "execution_count": 72,
   "metadata": {},
   "outputs": [
    {
     "name": "stdout",
     "output_type": "stream",
     "text": [
      "20 USD costs 102.324 BRL today\n",
      "20 EUR costs 110.99000000000001 BRL today\n",
      "20 BTC costs 2341.2799999999997 BRL today\n",
      "quote falhou\n"
     ]
    }
   ],
   "source": [
    "multi_quote(20, list_currencies_pairs)"
   ]
  },
  {
   "attachments": {},
   "cell_type": "markdown",
   "metadata": {},
   "source": [
    "Creating a decorator for treating several error could be time consuming. Module backoff has some helpful functions"
   ]
  },
  {
   "cell_type": "code",
   "execution_count": 74,
   "metadata": {},
   "outputs": [],
   "source": [
    "import backoff"
   ]
  },
  {
   "attachments": {},
   "cell_type": "markdown",
   "metadata": {},
   "source": [
    "An example here is to demonstrate the usage of a backoff decorator"
   ]
  },
  {
   "cell_type": "code",
   "execution_count": 78,
   "metadata": {},
   "outputs": [],
   "source": [
    "import random\n",
    "\n",
    "#This receives a delay between tries, expo defines an exponential delay, then a list of exception triggers for backoff, then maximum tryouts.\n",
    "@backoff.on_exception(backoff.expo, (ConnectionAbortedError, ConnectionRefusedError, TimeoutError), max_tries=10)\n",
    "def test_func(*args, **kargs):\n",
    "    rnd = random.random()\n",
    "    print(f'''\n",
    "        RND: {rnd}\n",
    "        args: {args if args else \"no args\"}\n",
    "        kargs: {kargs if kargs else \"no kargs\"}\n",
    "    ''')\n",
    "\n",
    "    if rnd < .2:\n",
    "        raise ConnectionAbortedError('Connection terminated.')\n",
    "    if rnd < .4:\n",
    "        raise ConnectionRefusedError('Connection refused.')\n",
    "    if rnd < .6:\n",
    "        raise TimeoutError('Connection timeout.')\n",
    "    else:\n",
    "        return \"OK!\""
   ]
  },
  {
   "cell_type": "code",
   "execution_count": 80,
   "metadata": {},
   "outputs": [
    {
     "name": "stdout",
     "output_type": "stream",
     "text": [
      "\n",
      "        RND: 0.055056261541524876\n",
      "        args: no args\n",
      "        kargs: no kargs\n",
      "    \n",
      "\n",
      "        RND: 0.8620516551151075\n",
      "        args: no args\n",
      "        kargs: no kargs\n",
      "    \n"
     ]
    },
    {
     "data": {
      "text/plain": [
       "'OK!'"
      ]
     },
     "execution_count": 80,
     "metadata": {},
     "output_type": "execute_result"
    }
   ],
   "source": [
    "test_func()"
   ]
  },
  {
   "cell_type": "code",
   "execution_count": 81,
   "metadata": {},
   "outputs": [
    {
     "name": "stdout",
     "output_type": "stream",
     "text": [
      "\n",
      "        RND: 0.32805150754157386\n",
      "        args: (10,)\n",
      "        kargs: {'name': 'testing'}\n",
      "    \n",
      "\n",
      "        RND: 0.062475774108133986\n",
      "        args: (10,)\n",
      "        kargs: {'name': 'testing'}\n",
      "    \n",
      "\n",
      "        RND: 0.01583834679509677\n",
      "        args: (10,)\n",
      "        kargs: {'name': 'testing'}\n",
      "    \n",
      "\n",
      "        RND: 0.257117418255995\n",
      "        args: (10,)\n",
      "        kargs: {'name': 'testing'}\n",
      "    \n",
      "\n",
      "        RND: 0.2653838073519814\n",
      "        args: (10,)\n",
      "        kargs: {'name': 'testing'}\n",
      "    \n",
      "\n",
      "        RND: 0.8147351362213354\n",
      "        args: (10,)\n",
      "        kargs: {'name': 'testing'}\n",
      "    \n"
     ]
    },
    {
     "data": {
      "text/plain": [
       "'OK!'"
      ]
     },
     "execution_count": 81,
     "metadata": {},
     "output_type": "execute_result"
    }
   ],
   "source": [
    "test_func(10, name=\"testing\")"
   ]
  }
 ],
 "metadata": {
  "kernelspec": {
   "display_name": ".venv",
   "language": "python",
   "name": "python3"
  },
  "language_info": {
   "codemirror_mode": {
    "name": "ipython",
    "version": 3
   },
   "file_extension": ".py",
   "mimetype": "text/x-python",
   "name": "python",
   "nbconvert_exporter": "python",
   "pygments_lexer": "ipython3",
   "version": "3.11.0"
  },
  "orig_nbformat": 4,
  "vscode": {
   "interpreter": {
    "hash": "a2e86e5a5b0be2109e49e65e7d65e941da365b30ffc99c95081295d65ff8e367"
   }
  }
 },
 "nbformat": 4,
 "nbformat_minor": 2
}
