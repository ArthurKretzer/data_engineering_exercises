{
 "cells": [
  {
   "attachments": {},
   "cell_type": "markdown",
   "metadata": {},
   "source": [
    "This notebook gets the feed from xadrez verbal podcast from its website and stores it into a csv file using pandas."
   ]
  },
  {
   "cell_type": "code",
   "execution_count": 1,
   "metadata": {},
   "outputs": [],
   "source": [
    "import requests\n",
    "from bs4 import BeautifulSoup as bs\n",
    "import json"
   ]
  },
  {
   "attachments": {},
   "cell_type": "markdown",
   "metadata": {},
   "source": [
    "When testing, I discovered that the website accessed an api to get posts to show. Each post is an episode of the podcast given in HTML containing the name, links and other infos."
   ]
  },
  {
   "cell_type": "code",
   "execution_count": 19,
   "metadata": {},
   "outputs": [],
   "source": [
    "url = f\"https://public-api.wordpress.com/wpcom/v2/sites/53884404/articles?className=is-style-borders&showExcerpt=0&imageShape=uncropped&moreButton=1&showAuthor=0&postsToShow=100&mediaPosition=left&categories%5B0%5D=548679890&imageScale=2&textColor=black&excerptLength=55&showReadMore=0&readMoreLabel=Keep%20reading&showDate=1&showImage=1&showCaption=0&disableImageLazyLoad=0&minHeight=0&moreButtonText&showAvatar=1&showCategory=0&postLayout=list&columns=3&colGap=3&&&&&&typeScale=4&mobileStack=0&sectionHeader&specificMode=0&customTextColor&singleMode=0&showSubtitle=0&postType%5B0%5D=post&textAlign=left&includedPostStatuses%5B0%5D=publish&page=2\""
   ]
  },
  {
   "cell_type": "code",
   "execution_count": 20,
   "metadata": {},
   "outputs": [],
   "source": [
    "ret = requests.get(url)"
   ]
  },
  {
   "attachments": {},
   "cell_type": "markdown",
   "metadata": {},
   "source": [
    "The response is a json file, so it's better to use a json parser."
   ]
  },
  {
   "cell_type": "code",
   "execution_count": 21,
   "metadata": {},
   "outputs": [
    {
     "data": {
      "text/plain": [
       "dict_keys(['items', 'ids', 'next'])"
      ]
     },
     "execution_count": 21,
     "metadata": {},
     "output_type": "execute_result"
    }
   ],
   "source": [
    "articles_json = json.loads(ret.text)\n",
    "\n",
    "articles_json.keys()"
   ]
  },
  {
   "attachments": {},
   "cell_type": "markdown",
   "metadata": {},
   "source": [
    "Items contains a list of posts and we can get the html and link by parsing the HTML using bs4"
   ]
  },
  {
   "cell_type": "code",
   "execution_count": 62,
   "metadata": {},
   "outputs": [],
   "source": [
    "test = bs(articles_json['items'][0]['html'])"
   ]
  },
  {
   "cell_type": "code",
   "execution_count": 63,
   "metadata": {},
   "outputs": [
    {
     "data": {
      "text/plain": [
       "'https://xadrezverbal.com/2020/02/15/xadrez-verbal-podcast-222-eua-el-salvador-e-europa/'"
      ]
     },
     "execution_count": 63,
     "metadata": {},
     "output_type": "execute_result"
    }
   ],
   "source": [
    "test.a['href']"
   ]
  },
  {
   "cell_type": "code",
   "execution_count": 64,
   "metadata": {},
   "outputs": [
    {
     "data": {
      "text/plain": [
       "'Xadrez Verbal Podcast #222 – EUA, El Salvador e Europa '"
      ]
     },
     "execution_count": 64,
     "metadata": {},
     "output_type": "execute_result"
    }
   ],
   "source": [
    "test.text.split('\\n')[6].replace('\\xa0', ' ')"
   ]
  },
  {
   "attachments": {},
   "cell_type": "markdown",
   "metadata": {},
   "source": [
    "I don't know how many episodes there are and the api denies me when I input a giant number to 'postsToShow' parameter. <br>\n",
    "There is a parameter used by the website to exclude already loaded posts so I collect that data and used it to input into the query. <br>\n",
    "The loaded ids is given in the json file."
   ]
  },
  {
   "cell_type": "code",
   "execution_count": 65,
   "metadata": {},
   "outputs": [],
   "source": [
    "ids_string = \"\"\n",
    "\n",
    "# Iterates over all ids and stores it separated by commas into a string.\n",
    "for article in articles_json['ids']:\n",
    "    ids_string = ids_string + str(article) + ','\n",
    "\n",
    "ids_string = ids_string.removesuffix(',')"
   ]
  },
  {
   "attachments": {},
   "cell_type": "markdown",
   "metadata": {},
   "source": [
    "The way to build the new url is to input the loaded id string."
   ]
  },
  {
   "cell_type": "code",
   "execution_count": 66,
   "metadata": {},
   "outputs": [
    {
     "data": {
      "text/plain": [
       "'&exclude_ids=8412,8398,8388,8366,8335,8321,8296,8271,8247,8222,8206,8187,8165,8153,8108,8084,8058,8035,7999,7972,7942,7922,7903,7878,7862,7834,7823,7800,7766,7729,7711,7701,7692,7676,7667,7658,7644,7630,7621,7613,7600,7582,7569,7557,7550,7537,7525,7513,7501,7492,7483,7475,7465,7450,7439,7429,7415,7399,7391,7377,7366,7353,7343,7325,7289,7275,7255,7245,7229,7217,7170,7151,7142,7133,7119,7105,7090,7077,7068,7059,7054,7045,7040,7030,7017,7002,6983,6971,6949,6923,6898,6880,6860,6854,6837,6824,6817,6794,6606,6595'"
      ]
     },
     "execution_count": 66,
     "metadata": {},
     "output_type": "execute_result"
    }
   ],
   "source": [
    "f\"&exclude_ids={ids_string}\""
   ]
  },
  {
   "attachments": {},
   "cell_type": "markdown",
   "metadata": {},
   "source": [
    "Now we create the logger for the next queries"
   ]
  },
  {
   "cell_type": "code",
   "execution_count": 51,
   "metadata": {},
   "outputs": [],
   "source": [
    "import logging\n",
    "import os\n",
    "# Color number definition\n",
    "BLACK, RED, GREEN, YELLOW, BLUE, MAGENTA, CYAN, WHITE = range(8)\n",
    "\n",
    "# These are the sequences need to get colored output\n",
    "RESET_SEQ = \"\\033[0m\"\n",
    "COLOR_SEQ = \"\\033[1;%dm\"\n",
    "BOLD_SEQ = \"\\033[1m\"\n",
    "\n",
    "COLORS = {\n",
    "    'WARNING': YELLOW,\n",
    "    'INFO': WHITE,\n",
    "    'DEBUG': BLUE,\n",
    "    'CRITICAL': RED,\n",
    "    'ERROR': RED\n",
    "}\n",
    "\n",
    "# Special function used to ease a message formatting edition\n",
    "\n",
    "\n",
    "def formatter_message(message, use_color=True):\n",
    "    if use_color:\n",
    "        message = message.replace(\n",
    "            \"$RESET\", RESET_SEQ).replace(\"$BOLD\", BOLD_SEQ)\n",
    "    else:\n",
    "        message = message.replace(\"$RESET\", \"\").replace(\"$BOLD\", \"\")\n",
    "    return message\n",
    "\n",
    "# Format log level name color accordinly\n",
    "\n",
    "\n",
    "class ColoredFormatter(logging.Formatter):\n",
    "    def __init__(self, msg, use_color=True):\n",
    "        logging.Formatter.__init__(self, msg)\n",
    "        self.use_color = use_color\n",
    "\n",
    "    def format(self, record):\n",
    "        levelname = record.levelname\n",
    "        if self.use_color and levelname in COLORS:\n",
    "            levelname_color = COLOR_SEQ % (\n",
    "                30 + COLORS[levelname]) + levelname + RESET_SEQ\n",
    "            record.levelname = levelname_color\n",
    "        return logging.Formatter.format(self, record)\n",
    "\n",
    "# Logger class used in all logging operations\n",
    "\n",
    "\n",
    "class log(logging.Logger):\n",
    "    # Message format with collors \\033[1;35m = Magenta\n",
    "    FORMAT = '\\033[35m%(asctime)s\\033[0m [$BOLD%(levelname)-18s$RESET]\\033[35m [%(processName)s][%(threadName)s][%(module)s]\\033[0m %(message)s - $BOLDLine:%(lineno)d$RESET'\n",
    "    COLOR_FORMAT = formatter_message(FORMAT, True)\n",
    "\n",
    "    def __init__(self, name='my_logger'):\n",
    "        # Create logger with debug level\n",
    "        logging.Logger.__init__(self, name, logging.DEBUG)\n",
    "\n",
    "        # create console handler and set level to debug\n",
    "        if not self.handlers:\n",
    "            color_formatter = ColoredFormatter(self.COLOR_FORMAT)\n",
    "            ch = logging.StreamHandler()\n",
    "            ch.setLevel(logging.DEBUG)\n",
    "            # add formatter to ch\n",
    "            ch.setFormatter(color_formatter)\n",
    "            # add ch to logger\n",
    "            self.addHandler(ch)\n",
    "\n",
    "            log_file = logging.FileHandler(\n",
    "                filename=os.getcwd()+f'/logs/{name}.log', mode='w+', encoding='utf8')\n",
    "            formatter = logging.Formatter(\n",
    "                '%(asctime)s [%(levelname)-18s][%(processName)s][%(threadName)s][%(module)s] %(message)s - %(lineno)d')\n",
    "            log_file.setFormatter(formatter)\n",
    "            log_file.setLevel(logging.DEBUG)\n",
    "            self.addHandler(log_file)\n",
    "\n",
    "_log = log('my_log')"
   ]
  },
  {
   "attachments": {},
   "cell_type": "markdown",
   "metadata": {},
   "source": [
    "For convenience I created a function for getting all articles. It stops when the list received by the API has less than 2 items. Those 2 items are useless info for this context."
   ]
  },
  {
   "cell_type": "code",
   "execution_count": 52,
   "metadata": {},
   "outputs": [],
   "source": [
    "def get_articles():\n",
    "    searching = True\n",
    "    exclude_string = \"&exclude_ids=\"\n",
    "    articles_html = []\n",
    "    \n",
    "    # Searches untill no more articles are found.\n",
    "    while(searching):\n",
    "        _log.debug(\"Getting articles...\")\n",
    "        url = f\"https://public-api.wordpress.com/wpcom/v2/sites/53884404/articles?className=is-style-borders&showExcerpt=0&imageShape=uncropped&moreButton=1&showAuthor=0&postsToShow=100&mediaPosition=left&categories%5B0%5D=548679890&imageScale=2&textColor=black&excerptLength=55&showReadMore=0&readMoreLabel=Keep%20reading&showDate=1&showImage=1&showCaption=0&disableImageLazyLoad=0&minHeight=0&moreButtonText&showAvatar=1&showCategory=0&postLayout=list&columns=3&colGap=3&&&&&&typeScale=4&mobileStack=0&sectionHeader&specificMode=0&customTextColor&singleMode=0&showSubtitle=0&postType%5B0%5D=post&textAlign=left&includedPostStatuses%5B0%5D=publish&page=2\" + exclude_string\n",
    "        ret = requests.get(url)\n",
    "\n",
    "        _log.debug(f\"Request response: {ret}\")\n",
    "\n",
    "        articles_json = json.loads(ret.text)\n",
    "\n",
    "        _log.debug( f\"{len(articles_json['items'])} articles found\")\n",
    "\n",
    "        # Checks items received.\n",
    "        if len(articles_json['items']) > 2:\n",
    "            for article in articles_json['items']:\n",
    "                articles_html += bs(article['html'])\n",
    "\n",
    "            # Stores the ids to exclude\n",
    "            ids_string = \"\"\n",
    "            for id in articles_json['ids']:\n",
    "                ids_string = ids_string + str(id) + ','\n",
    "            ids_string = ids_string.removesuffix(',')\n",
    "            exclude_string = exclude_string + f\"{ids_string}\"\n",
    "\n",
    "            _log.debug(exclude_string)\n",
    "        else:\n",
    "            searching = False\n",
    "\n",
    "    # Returns all article html found\n",
    "    return articles_html"
   ]
  },
  {
   "cell_type": "code",
   "execution_count": 53,
   "metadata": {},
   "outputs": [
    {
     "name": "stderr",
     "output_type": "stream",
     "text": [
      "\u001b[35m2023-02-02 19:51:29,307\u001b[0m [\u001b[1m\u001b[1;34mDEBUG\u001b[0m  \u001b[0m]\u001b[35m [MainProcess][MainThread][298439224]\u001b[0m Getting articles... - \u001b[1mLine:7\u001b[0m\n",
      "\u001b[35m2023-02-02 19:51:31,443\u001b[0m [\u001b[1m\u001b[1;34mDEBUG\u001b[0m  \u001b[0m]\u001b[35m [MainProcess][MainThread][298439224]\u001b[0m Request response: <Response [200]> - \u001b[1mLine:10\u001b[0m\n",
      "\u001b[35m2023-02-02 19:51:31,445\u001b[0m [\u001b[1m\u001b[1;34mDEBUG\u001b[0m  \u001b[0m]\u001b[35m [MainProcess][MainThread][298439224]\u001b[0m 100 articles found - \u001b[1mLine:12\u001b[0m\n",
      "\u001b[35m2023-02-02 19:51:31,503\u001b[0m [\u001b[1m\u001b[1;34mDEBUG\u001b[0m  \u001b[0m]\u001b[35m [MainProcess][MainThread][298439224]\u001b[0m &exclude_ids=8412,8398,8388,8366,8335,8321,8296,8271,8247,8222,8206,8187,8165,8153,8108,8084,8058,8035,7999,7972,7942,7922,7903,7878,7862,7834,7823,7800,7766,7729,7711,7701,7692,7676,7667,7658,7644,7630,7621,7613,7600,7582,7569,7557,7550,7537,7525,7513,7501,7492,7483,7475,7465,7450,7439,7429,7415,7399,7391,7377,7366,7353,7343,7325,7289,7275,7255,7245,7229,7217,7170,7151,7142,7133,7119,7105,7090,7077,7068,7059,7054,7045,7040,7030,7017,7002,6983,6971,6949,6923,6898,6880,6860,6854,6837,6824,6817,6794,6606,6595 - \u001b[1mLine:24\u001b[0m\n",
      "\u001b[35m2023-02-02 19:51:31,505\u001b[0m [\u001b[1m\u001b[1;34mDEBUG\u001b[0m  \u001b[0m]\u001b[35m [MainProcess][MainThread][298439224]\u001b[0m Getting articles... - \u001b[1mLine:7\u001b[0m\n",
      "\u001b[35m2023-02-02 19:51:32,626\u001b[0m [\u001b[1m\u001b[1;34mDEBUG\u001b[0m  \u001b[0m]\u001b[35m [MainProcess][MainThread][298439224]\u001b[0m Request response: <Response [200]> - \u001b[1mLine:10\u001b[0m\n",
      "\u001b[35m2023-02-02 19:51:32,628\u001b[0m [\u001b[1m\u001b[1;34mDEBUG\u001b[0m  \u001b[0m]\u001b[35m [MainProcess][MainThread][298439224]\u001b[0m 100 articles found - \u001b[1mLine:12\u001b[0m\n",
      "\u001b[35m2023-02-02 19:51:32,687\u001b[0m [\u001b[1m\u001b[1;34mDEBUG\u001b[0m  \u001b[0m]\u001b[35m [MainProcess][MainThread][298439224]\u001b[0m &exclude_ids=8412,8398,8388,8366,8335,8321,8296,8271,8247,8222,8206,8187,8165,8153,8108,8084,8058,8035,7999,7972,7942,7922,7903,7878,7862,7834,7823,7800,7766,7729,7711,7701,7692,7676,7667,7658,7644,7630,7621,7613,7600,7582,7569,7557,7550,7537,7525,7513,7501,7492,7483,7475,7465,7450,7439,7429,7415,7399,7391,7377,7366,7353,7343,7325,7289,7275,7255,7245,7229,7217,7170,7151,7142,7133,7119,7105,7090,7077,7068,7059,7054,7045,7040,7030,7017,7002,6983,6971,6949,6923,6898,6880,6860,6854,6837,6824,6817,6794,6606,659510924,10905,10898,10866,10854,10827,10803,10777,10762,10729,10722,10710,10672,10649,10644,10626,10607,10575,10568,10551,10544,10525,10517,10505,10493,10475,10468,10456,10441,10430,10418,10410,10392,10369,10348,10339,10325,10310,10295,10275,10255,10238,10220,10203,10167,10147,10128,10091,10071,10048,10032,10017,9988,9974,9952,9932,9909,9837,9809,9789,9750,9718,9682,9640,9579,9517,9480,9443,9416,9385,9362,9341,9322,9297,9276,9260,9236,9222,9200,9175,9148,9124,9089,9065,9043,9022,8999,8970,8946,8927,8887,8782,8750,8685,8552,8528,8485,8466,8455,8431 - \u001b[1mLine:24\u001b[0m\n",
      "\u001b[35m2023-02-02 19:51:32,688\u001b[0m [\u001b[1m\u001b[1;34mDEBUG\u001b[0m  \u001b[0m]\u001b[35m [MainProcess][MainThread][298439224]\u001b[0m Getting articles... - \u001b[1mLine:7\u001b[0m\n",
      "\u001b[35m2023-02-02 19:51:33,965\u001b[0m [\u001b[1m\u001b[1;34mDEBUG\u001b[0m  \u001b[0m]\u001b[35m [MainProcess][MainThread][298439224]\u001b[0m Request response: <Response [200]> - \u001b[1mLine:10\u001b[0m\n",
      "\u001b[35m2023-02-02 19:51:33,968\u001b[0m [\u001b[1m\u001b[1;34mDEBUG\u001b[0m  \u001b[0m]\u001b[35m [MainProcess][MainThread][298439224]\u001b[0m 100 articles found - \u001b[1mLine:12\u001b[0m\n",
      "\u001b[35m2023-02-02 19:51:34,136\u001b[0m [\u001b[1m\u001b[1;34mDEBUG\u001b[0m  \u001b[0m]\u001b[35m [MainProcess][MainThread][298439224]\u001b[0m &exclude_ids=8412,8398,8388,8366,8335,8321,8296,8271,8247,8222,8206,8187,8165,8153,8108,8084,8058,8035,7999,7972,7942,7922,7903,7878,7862,7834,7823,7800,7766,7729,7711,7701,7692,7676,7667,7658,7644,7630,7621,7613,7600,7582,7569,7557,7550,7537,7525,7513,7501,7492,7483,7475,7465,7450,7439,7429,7415,7399,7391,7377,7366,7353,7343,7325,7289,7275,7255,7245,7229,7217,7170,7151,7142,7133,7119,7105,7090,7077,7068,7059,7054,7045,7040,7030,7017,7002,6983,6971,6949,6923,6898,6880,6860,6854,6837,6824,6817,6794,6606,659510924,10905,10898,10866,10854,10827,10803,10777,10762,10729,10722,10710,10672,10649,10644,10626,10607,10575,10568,10551,10544,10525,10517,10505,10493,10475,10468,10456,10441,10430,10418,10410,10392,10369,10348,10339,10325,10310,10295,10275,10255,10238,10220,10203,10167,10147,10128,10091,10071,10048,10032,10017,9988,9974,9952,9932,9909,9837,9809,9789,9750,9718,9682,9640,9579,9517,9480,9443,9416,9385,9362,9341,9322,9297,9276,9260,9236,9222,9200,9175,9148,9124,9089,9065,9043,9022,8999,8970,8946,8927,8887,8782,8750,8685,8552,8528,8485,8466,8455,843110924,6595,6581,6571,6562,6547,6539,6533,6523,6500,6486,6480,6466,6439,6400,6381,6373,6354,6339,6328,6320,6314,6309,6303,6293,6280,6267,6261,6252,6243,6240,6226,6209,6196,6180,6174,6154,6143,6133,6118,6108,6086,6080,6061,6051,6028,6000,5981,5962,5952,5921,5907,5881,5861,5727,5696,5675,5666,5630,5605,5580,5559,5535,5513,5495,5474,5459,5439,5414,5382,5350,5328,5303,5283,5265,5259,5246,5239,5201,5181,5144,5122,5097,5084,5065,5042,5007,4990,4951,4934,4895,4887,4856,4819,4800,4785,4751,4738,4701,4671 - \u001b[1mLine:24\u001b[0m\n",
      "\u001b[35m2023-02-02 19:51:34,137\u001b[0m [\u001b[1m\u001b[1;34mDEBUG\u001b[0m  \u001b[0m]\u001b[35m [MainProcess][MainThread][298439224]\u001b[0m Getting articles... - \u001b[1mLine:7\u001b[0m\n",
      "\u001b[35m2023-02-02 19:51:34,821\u001b[0m [\u001b[1m\u001b[1;34mDEBUG\u001b[0m  \u001b[0m]\u001b[35m [MainProcess][MainThread][298439224]\u001b[0m Request response: <Response [200]> - \u001b[1mLine:10\u001b[0m\n",
      "\u001b[35m2023-02-02 19:51:34,822\u001b[0m [\u001b[1m\u001b[1;34mDEBUG\u001b[0m  \u001b[0m]\u001b[35m [MainProcess][MainThread][298439224]\u001b[0m 31 articles found - \u001b[1mLine:12\u001b[0m\n",
      "\u001b[35m2023-02-02 19:51:34,843\u001b[0m [\u001b[1m\u001b[1;34mDEBUG\u001b[0m  \u001b[0m]\u001b[35m [MainProcess][MainThread][298439224]\u001b[0m &exclude_ids=8412,8398,8388,8366,8335,8321,8296,8271,8247,8222,8206,8187,8165,8153,8108,8084,8058,8035,7999,7972,7942,7922,7903,7878,7862,7834,7823,7800,7766,7729,7711,7701,7692,7676,7667,7658,7644,7630,7621,7613,7600,7582,7569,7557,7550,7537,7525,7513,7501,7492,7483,7475,7465,7450,7439,7429,7415,7399,7391,7377,7366,7353,7343,7325,7289,7275,7255,7245,7229,7217,7170,7151,7142,7133,7119,7105,7090,7077,7068,7059,7054,7045,7040,7030,7017,7002,6983,6971,6949,6923,6898,6880,6860,6854,6837,6824,6817,6794,6606,659510924,10905,10898,10866,10854,10827,10803,10777,10762,10729,10722,10710,10672,10649,10644,10626,10607,10575,10568,10551,10544,10525,10517,10505,10493,10475,10468,10456,10441,10430,10418,10410,10392,10369,10348,10339,10325,10310,10295,10275,10255,10238,10220,10203,10167,10147,10128,10091,10071,10048,10032,10017,9988,9974,9952,9932,9909,9837,9809,9789,9750,9718,9682,9640,9579,9517,9480,9443,9416,9385,9362,9341,9322,9297,9276,9260,9236,9222,9200,9175,9148,9124,9089,9065,9043,9022,8999,8970,8946,8927,8887,8782,8750,8685,8552,8528,8485,8466,8455,843110924,6595,6581,6571,6562,6547,6539,6533,6523,6500,6486,6480,6466,6439,6400,6381,6373,6354,6339,6328,6320,6314,6309,6303,6293,6280,6267,6261,6252,6243,6240,6226,6209,6196,6180,6174,6154,6143,6133,6118,6108,6086,6080,6061,6051,6028,6000,5981,5962,5952,5921,5907,5881,5861,5727,5696,5675,5666,5630,5605,5580,5559,5535,5513,5495,5474,5459,5439,5414,5382,5350,5328,5303,5283,5265,5259,5246,5239,5201,5181,5144,5122,5097,5084,5065,5042,5007,4990,4951,4934,4895,4887,4856,4819,4800,4785,4751,4738,4701,467110924,8431,4624,4601,4557,4536,4499,4346,4298,4266,4229,4202,4110,4065,4047,4021,3987,3970,3942,3904,3897,3876,3863,3828,3782,3767,3747,3725,3705,3674,3655 - \u001b[1mLine:24\u001b[0m\n",
      "\u001b[35m2023-02-02 19:51:34,844\u001b[0m [\u001b[1m\u001b[1;34mDEBUG\u001b[0m  \u001b[0m]\u001b[35m [MainProcess][MainThread][298439224]\u001b[0m Getting articles... - \u001b[1mLine:7\u001b[0m\n",
      "\u001b[35m2023-02-02 19:51:35,224\u001b[0m [\u001b[1m\u001b[1;34mDEBUG\u001b[0m  \u001b[0m]\u001b[35m [MainProcess][MainThread][298439224]\u001b[0m Request response: <Response [200]> - \u001b[1mLine:10\u001b[0m\n",
      "\u001b[35m2023-02-02 19:51:35,226\u001b[0m [\u001b[1m\u001b[1;34mDEBUG\u001b[0m  \u001b[0m]\u001b[35m [MainProcess][MainThread][298439224]\u001b[0m 2 articles found - \u001b[1mLine:12\u001b[0m\n"
     ]
    }
   ],
   "source": [
    "articles_list = get_articles()"
   ]
  },
  {
   "attachments": {},
   "cell_type": "markdown",
   "metadata": {},
   "source": [
    "Checks the list length to see if it is a feasible number."
   ]
  },
  {
   "cell_type": "code",
   "execution_count": 54,
   "metadata": {},
   "outputs": [
    {
     "data": {
      "text/plain": [
       "331"
      ]
     },
     "execution_count": 54,
     "metadata": {},
     "output_type": "execute_result"
    }
   ],
   "source": [
    "len(articles_list)"
   ]
  },
  {
   "attachments": {},
   "cell_type": "markdown",
   "metadata": {},
   "source": [
    "Transforms the results into a dataframe to store it into a csv file."
   ]
  },
  {
   "cell_type": "code",
   "execution_count": 55,
   "metadata": {},
   "outputs": [],
   "source": [
    "import pandas as pd\n",
    "\n",
    "xadrez_verbal_feed = pd.DataFrame(columns=[\"name\", \"link\"])"
   ]
  },
  {
   "attachments": {},
   "cell_type": "markdown",
   "metadata": {},
   "source": [
    "For each article, extracts is name and link at the same time as it is added into the dataframe."
   ]
  },
  {
   "cell_type": "code",
   "execution_count": 57,
   "metadata": {},
   "outputs": [],
   "source": [
    "for article in articles_list:\n",
    "    xadrez_verbal_feed.loc[xadrez_verbal_feed.shape[0]] = [article.text.split('\\n')[6].replace('\\xa0', ' '), article.a['href']]"
   ]
  },
  {
   "attachments": {},
   "cell_type": "markdown",
   "metadata": {},
   "source": [
    "Checks the result"
   ]
  },
  {
   "cell_type": "code",
   "execution_count": 58,
   "metadata": {},
   "outputs": [
    {
     "data": {
      "text/html": [
       "<div>\n",
       "<style scoped>\n",
       "    .dataframe tbody tr th:only-of-type {\n",
       "        vertical-align: middle;\n",
       "    }\n",
       "\n",
       "    .dataframe tbody tr th {\n",
       "        vertical-align: top;\n",
       "    }\n",
       "\n",
       "    .dataframe thead th {\n",
       "        text-align: right;\n",
       "    }\n",
       "</style>\n",
       "<table border=\"1\" class=\"dataframe\">\n",
       "  <thead>\n",
       "    <tr style=\"text-align: right;\">\n",
       "      <th></th>\n",
       "      <th>name</th>\n",
       "      <th>link</th>\n",
       "    </tr>\n",
       "  </thead>\n",
       "  <tbody>\n",
       "    <tr>\n",
       "      <th>0</th>\n",
       "      <td>Xadrez Verbal Podcast #222 – EUA, El Salvador ...</td>\n",
       "      <td>https://xadrezverbal.com/2020/02/15/xadrez-ver...</td>\n",
       "    </tr>\n",
       "    <tr>\n",
       "      <th>1</th>\n",
       "      <td>Xadrez Verbal Podcast #221 – Fim do Brexit e d...</td>\n",
       "      <td>https://xadrezverbal.com/2020/02/08/xadrez-ver...</td>\n",
       "    </tr>\n",
       "    <tr>\n",
       "      <th>2</th>\n",
       "      <td>Xadrez Verbal Podcast #220 – Europa, América L...</td>\n",
       "      <td>https://xadrezverbal.com/2020/01/31/xadrez-ver...</td>\n",
       "    </tr>\n",
       "    <tr>\n",
       "      <th>3</th>\n",
       "      <td>Xadrez Verbal Podcast #219 – Europa, Oriente M...</td>\n",
       "      <td>https://xadrezverbal.com/2020/01/25/xadrez-ver...</td>\n",
       "    </tr>\n",
       "    <tr>\n",
       "      <th>4</th>\n",
       "      <td>Xadrez Verbal Podcast #218 – Virada de 2019 pa...</td>\n",
       "      <td>https://xadrezverbal.com/2020/01/18/xadrez-ver...</td>\n",
       "    </tr>\n",
       "    <tr>\n",
       "      <th>...</th>\n",
       "      <td>...</td>\n",
       "      <td>...</td>\n",
       "    </tr>\n",
       "    <tr>\n",
       "      <th>326</th>\n",
       "      <td>Xadrez Verbal Podcast #5 – Jerusalém, Armênia ...</td>\n",
       "      <td>https://xadrezverbal.com/2015/06/12/xadrez-ver...</td>\n",
       "    </tr>\n",
       "    <tr>\n",
       "      <th>327</th>\n",
       "      <td>Xadrez Verbal Podcast #4 – A semana na polític...</td>\n",
       "      <td>https://xadrezverbal.com/2015/05/29/xadrez-ver...</td>\n",
       "    </tr>\n",
       "    <tr>\n",
       "      <th>328</th>\n",
       "      <td>Xadrez Verbal Podcast #3 – A semana na polític...</td>\n",
       "      <td>https://xadrezverbal.com/2015/05/22/xadrez-ver...</td>\n",
       "    </tr>\n",
       "    <tr>\n",
       "      <th>329</th>\n",
       "      <td>Xadrez Verbal Podcast #2 – A semana na polític...</td>\n",
       "      <td>https://xadrezverbal.com/2015/05/15/xadrez-ver...</td>\n",
       "    </tr>\n",
       "    <tr>\n",
       "      <th>330</th>\n",
       "      <td>Xadrez Verbal Podcast #1 – A semana na polític...</td>\n",
       "      <td>https://xadrezverbal.com/2015/05/08/xadrez-ver...</td>\n",
       "    </tr>\n",
       "  </tbody>\n",
       "</table>\n",
       "<p>331 rows × 2 columns</p>\n",
       "</div>"
      ],
      "text/plain": [
       "                                                  name  \\\n",
       "0    Xadrez Verbal Podcast #222 – EUA, El Salvador ...   \n",
       "1    Xadrez Verbal Podcast #221 – Fim do Brexit e d...   \n",
       "2    Xadrez Verbal Podcast #220 – Europa, América L...   \n",
       "3    Xadrez Verbal Podcast #219 – Europa, Oriente M...   \n",
       "4    Xadrez Verbal Podcast #218 – Virada de 2019 pa...   \n",
       "..                                                 ...   \n",
       "326  Xadrez Verbal Podcast #5 – Jerusalém, Armênia ...   \n",
       "327  Xadrez Verbal Podcast #4 – A semana na polític...   \n",
       "328  Xadrez Verbal Podcast #3 – A semana na polític...   \n",
       "329  Xadrez Verbal Podcast #2 – A semana na polític...   \n",
       "330  Xadrez Verbal Podcast #1 – A semana na polític...   \n",
       "\n",
       "                                                  link  \n",
       "0    https://xadrezverbal.com/2020/02/15/xadrez-ver...  \n",
       "1    https://xadrezverbal.com/2020/02/08/xadrez-ver...  \n",
       "2    https://xadrezverbal.com/2020/01/31/xadrez-ver...  \n",
       "3    https://xadrezverbal.com/2020/01/25/xadrez-ver...  \n",
       "4    https://xadrezverbal.com/2020/01/18/xadrez-ver...  \n",
       "..                                                 ...  \n",
       "326  https://xadrezverbal.com/2015/06/12/xadrez-ver...  \n",
       "327  https://xadrezverbal.com/2015/05/29/xadrez-ver...  \n",
       "328  https://xadrezverbal.com/2015/05/22/xadrez-ver...  \n",
       "329  https://xadrezverbal.com/2015/05/15/xadrez-ver...  \n",
       "330  https://xadrezverbal.com/2015/05/08/xadrez-ver...  \n",
       "\n",
       "[331 rows x 2 columns]"
      ]
     },
     "execution_count": 58,
     "metadata": {},
     "output_type": "execute_result"
    }
   ],
   "source": [
    "xadrez_verbal_feed"
   ]
  },
  {
   "attachments": {},
   "cell_type": "markdown",
   "metadata": {},
   "source": [
    "Stores into a csv"
   ]
  },
  {
   "cell_type": "code",
   "execution_count": 61,
   "metadata": {},
   "outputs": [],
   "source": [
    "xadrez_verbal_feed.to_csv(\"xadrez_verbal_feed.csv\", sep=\";\", index=False)"
   ]
  }
 ],
 "metadata": {
  "kernelspec": {
   "display_name": ".venv",
   "language": "python",
   "name": "python3"
  },
  "language_info": {
   "codemirror_mode": {
    "name": "ipython",
    "version": 3
   },
   "file_extension": ".py",
   "mimetype": "text/x-python",
   "name": "python",
   "nbconvert_exporter": "python",
   "pygments_lexer": "ipython3",
   "version": "3.11.0"
  },
  "orig_nbformat": 4,
  "vscode": {
   "interpreter": {
    "hash": "a2e86e5a5b0be2109e49e65e7d65e941da365b30ffc99c95081295d65ff8e367"
   }
  }
 },
 "nbformat": 4,
 "nbformat_minor": 2
}
